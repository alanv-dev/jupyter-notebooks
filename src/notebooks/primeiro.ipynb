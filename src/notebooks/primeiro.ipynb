{
 "cells": [
  {
   "cell_type": "code",
   "execution_count": 1,
   "id": "9769929d-b03b-412c-abbf-0edc57fdcb6e",
   "metadata": {},
   "outputs": [
    {
     "data": {
      "text/plain": [
       "5"
      ]
     },
     "execution_count": 1,
     "metadata": {},
     "output_type": "execute_result"
    }
   ],
   "source": [
    "2 + 3"
   ]
  },
  {
   "cell_type": "code",
   "execution_count": 2,
   "id": "993266cd-a2b7-4d82-bcd1-5b5eced6fdf0",
   "metadata": {},
   "outputs": [
    {
     "name": "stdout",
     "output_type": "stream",
     "text": [
      "Olá mundo!\n"
     ]
    }
   ],
   "source": [
    "print(\"Olá mundo!\")"
   ]
  },
  {
   "cell_type": "markdown",
   "id": "f768eb63-51f2-44e8-96cd-bdff8a1a8f3e",
   "metadata": {},
   "source": [
    "### Título"
   ]
  },
  {
   "cell_type": "markdown",
   "id": "95ce5c69-afb0-427c-8813-d2d376211df2",
   "metadata": {},
   "source": [
    "Teste de um *texto* **escrito** em __markdown__"
   ]
  },
  {
   "cell_type": "code",
   "execution_count": 1,
   "id": "79352293-db3c-428b-84b0-06aa71c70823",
   "metadata": {},
   "outputs": [
    {
     "data": {
      "text/plain": [
       "4"
      ]
     },
     "execution_count": 1,
     "metadata": {},
     "output_type": "execute_result"
    }
   ],
   "source": [
    "1 + 3"
   ]
  },
  {
   "cell_type": "code",
   "execution_count": 9,
   "id": "05a1a671-650e-4de4-9181-043373b7fc77",
   "metadata": {},
   "outputs": [
    {
     "data": {
      "text/plain": [
       "1"
      ]
     },
     "execution_count": 9,
     "metadata": {},
     "output_type": "execute_result"
    }
   ],
   "source": [
    "17 % 2"
   ]
  },
  {
   "cell_type": "code",
   "execution_count": null,
   "id": "dc190d5a-8818-4423-8ee4-c86863756020",
   "metadata": {},
   "outputs": [],
   "source": []
  }
 ],
 "metadata": {
  "kernelspec": {
   "display_name": "Python 3 (ipykernel)",
   "language": "python",
   "name": "python3"
  },
  "language_info": {
   "codemirror_mode": {
    "name": "ipython",
    "version": 3
   },
   "file_extension": ".py",
   "mimetype": "text/x-python",
   "name": "python",
   "nbconvert_exporter": "python",
   "pygments_lexer": "ipython3",
   "version": "3.9.12"
  },
  "toc-autonumbering": false,
  "toc-showcode": false,
  "toc-showmarkdowntxt": false,
  "toc-showtags": false
 },
 "nbformat": 4,
 "nbformat_minor": 5
}
